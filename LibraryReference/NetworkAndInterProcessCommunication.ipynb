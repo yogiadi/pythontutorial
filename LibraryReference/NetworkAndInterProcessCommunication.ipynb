{
 "cells": [
  {
   "cell_type": "code",
   "execution_count": 6,
   "metadata": {},
   "outputs": [
    {
     "name": "stdout",
     "output_type": "stream",
     "text": [
      "Hello ...\n",
      "... World!\n"
     ]
    }
   ],
   "source": [
    "import asyncio\n",
    "\n",
    "async def main():\n",
    "    print('Hello ...')\n",
    "    await asyncio.sleep(1)\n",
    "    print('... World!')\n",
    "\n",
    "# Python 3.7+\n",
    "# asyncio.run(main())\n",
    "await main()"
   ]
  },
  {
   "cell_type": "code",
   "execution_count": 2,
   "metadata": {},
   "outputs": [
    {
     "name": "stdout",
     "output_type": "stream",
     "text": [
      "started at 20:18:16\n",
      "Hello\n",
      "World\n",
      "finished at 20:18:19\n"
     ]
    }
   ],
   "source": [
    "import asyncio\n",
    "import time\n",
    "async def say_after(delay, what):\n",
    "    await asyncio.sleep(delay)\n",
    "    print(what)\n",
    "async def main():\n",
    "    print(f\"started at {time.strftime('%X')}\")\n",
    "    await say_after(1,'Hello')\n",
    "    await say_after(2,'World')\n",
    "    print(f\"finished at {time.strftime('%X')}\")\n",
    "# asyncio.run(main())\n",
    "await main()"
   ]
  },
  {
   "cell_type": "code",
   "execution_count": 5,
   "metadata": {},
   "outputs": [],
   "source": [
    "async def main():\n",
    "    task1=asyncio.create_task(say_after(1,'hello'))\n",
    "    task2=asyncio.create_task(say_after(2,'world'))\n",
    "    print(f\"started at {time.strftime('%X')}\")\n",
    "    await task1\n",
    "    await task2\n",
    "    print(f\"finished at {time.strftime('%X')}\")"
   ]
  },
  {
   "cell_type": "code",
   "execution_count": 6,
   "metadata": {},
   "outputs": [
    {
     "name": "stdout",
     "output_type": "stream",
     "text": [
      "started at 20:18:57\n",
      "hello\n",
      "world\n",
      "finished at 20:18:59\n"
     ]
    }
   ],
   "source": [
    "await main()"
   ]
  },
  {
   "cell_type": "code",
   "execution_count": 4,
   "metadata": {},
   "outputs": [
    {
     "name": "stdout",
     "output_type": "stream",
     "text": [
      "42\n"
     ]
    },
    {
     "name": "stderr",
     "output_type": "stream",
     "text": [
      "<ipython-input-4-812a2acc1909>:5: RuntimeWarning: coroutine 'nested' was never awaited\n",
      "  nested()\n",
      "RuntimeWarning: Enable tracemalloc to get the object allocation traceback\n"
     ]
    }
   ],
   "source": [
    "import asyncio\n",
    "async def nested():\n",
    "    return 42\n",
    "async def main():\n",
    "    nested()\n",
    "    print(await nested())\n",
    "# asyncio.run(main())\n",
    "await main()"
   ]
  },
  {
   "cell_type": "code",
   "execution_count": 5,
   "metadata": {},
   "outputs": [],
   "source": [
    "import asyncio\n",
    "async def nested():\n",
    "    return 42\n",
    "async def main():\n",
    "    task=asyncio.create_task(nested())\n",
    "    await task\n",
    "await main()\n"
   ]
  },
  {
   "cell_type": "code",
   "execution_count": 7,
   "metadata": {},
   "outputs": [
    {
     "name": "stdout",
     "output_type": "stream",
     "text": [
      "hello\n"
     ]
    }
   ],
   "source": [
    "async def main():\n",
    "    await asyncio.sleep(1)\n",
    "    print('hello')\n",
    "# asyncio.run(main())\n",
    "await main()"
   ]
  },
  {
   "cell_type": "code",
   "execution_count": 9,
   "metadata": {},
   "outputs": [
    {
     "name": "stdout",
     "output_type": "stream",
     "text": [
      "2020-05-24 17:47:47.448365\n",
      "2020-05-24 17:47:48.451149\n",
      "2020-05-24 17:47:49.452985\n",
      "2020-05-24 17:47:50.455111\n",
      "2020-05-24 17:47:51.456783\n"
     ]
    }
   ],
   "source": [
    "import asyncio\n",
    "import datetime\n",
    "async def display_date():\n",
    "    loop=asyncio.get_running_loop()\n",
    "    end_time=loop.time() + 5.0\n",
    "    while True:\n",
    "        print(datetime.datetime.now())\n",
    "        if (loop.time() + 1.0) >= end_time:\n",
    "            break\n",
    "        await asyncio.sleep(1)\n",
    "# asyncio.run(display_date())\n",
    "await display_date()"
   ]
  },
  {
   "cell_type": "code",
   "execution_count": 13,
   "metadata": {},
   "outputs": [
    {
     "name": "stdout",
     "output_type": "stream",
     "text": [
      "Task A : Compute factorial(2)... \n",
      "Task B : Compute factorial(2)... \n",
      "Task C : Compute factorial(2)... \n",
      "Task A : factorial(2) = 2 \n",
      "Task B : Compute factorial(3)... \n",
      "Task C : Compute factorial(3)... \n",
      "Task B : factorial(3) = 6 \n",
      "Task C : Compute factorial(4)... \n",
      "Task C : factorial(4) = 24 \n"
     ]
    }
   ],
   "source": [
    "import asyncio\n",
    "async def factorial(name, number):\n",
    "    f=1\n",
    "    for i in range(2, number+1):\n",
    "        print(f\"Task {name} : Compute factorial({i})... \")\n",
    "        await asyncio.sleep(1)\n",
    "        f *= i\n",
    "    print(f\"Task {name} : factorial({number}) = {f} \")\n",
    "async def main():\n",
    "    await asyncio.gather(\n",
    "        factorial(\"A\",2),\n",
    "        factorial(\"B\",3),\n",
    "        factorial(\"C\",4)\n",
    "    )\n",
    "await main()"
   ]
  },
  {
   "cell_type": "code",
   "execution_count": null,
   "metadata": {},
   "outputs": [],
   "source": []
  }
 ],
 "metadata": {
  "kernelspec": {
   "display_name": "Python 3",
   "language": "python",
   "name": "python3"
  },
  "language_info": {
   "codemirror_mode": {
    "name": "ipython",
    "version": 3
   },
   "file_extension": ".py",
   "mimetype": "text/x-python",
   "name": "python",
   "nbconvert_exporter": "python",
   "pygments_lexer": "ipython3",
   "version": "3.8.2"
  }
 },
 "nbformat": 4,
 "nbformat_minor": 4
}
