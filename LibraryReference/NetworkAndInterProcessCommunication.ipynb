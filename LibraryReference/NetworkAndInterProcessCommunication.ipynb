{
 "cells": [
  {
   "cell_type": "code",
   "execution_count": 6,
   "metadata": {},
   "outputs": [
    {
     "name": "stdout",
     "output_type": "stream",
     "text": [
      "Hello ...\n",
      "... World!\n"
     ]
    }
   ],
   "source": [
    "import asyncio\n",
    "\n",
    "async def main():\n",
    "    print('Hello ...')\n",
    "    await asyncio.sleep(1)\n",
    "    print('... World!')\n",
    "\n",
    "# Python 3.7+\n",
    "# asyncio.run(main())\n",
    "await main()"
   ]
  },
  {
   "cell_type": "code",
   "execution_count": 2,
   "metadata": {},
   "outputs": [
    {
     "name": "stdout",
     "output_type": "stream",
     "text": [
      "started at 20:18:16\n",
      "Hello\n",
      "World\n",
      "finished at 20:18:19\n"
     ]
    }
   ],
   "source": [
    "import asyncio\n",
    "import time\n",
    "async def say_after(delay, what):\n",
    "    await asyncio.sleep(delay)\n",
    "    print(what)\n",
    "async def main():\n",
    "    print(f\"started at {time.strftime('%X')}\")\n",
    "    await say_after(1,'Hello')\n",
    "    await say_after(2,'World')\n",
    "    print(f\"finished at {time.strftime('%X')}\")\n",
    "# asyncio.run(main())\n",
    "await main()"
   ]
  },
  {
   "cell_type": "code",
   "execution_count": 5,
   "metadata": {},
   "outputs": [],
   "source": [
    "async def main():\n",
    "    task1=asyncio.create_task(say_after(1,'hello'))\n",
    "    task2=asyncio.create_task(say_after(2,'world'))\n",
    "    print(f\"started at {time.strftime('%X')}\")\n",
    "    await task1\n",
    "    await task2\n",
    "    print(f\"finished at {time.strftime('%X')}\")"
   ]
  },
  {
   "cell_type": "code",
   "execution_count": 6,
   "metadata": {},
   "outputs": [
    {
     "name": "stdout",
     "output_type": "stream",
     "text": [
      "started at 20:18:57\n",
      "hello\n",
      "world\n",
      "finished at 20:18:59\n"
     ]
    }
   ],
   "source": [
    "await main()"
   ]
  },
  {
   "cell_type": "code",
   "execution_count": null,
   "metadata": {},
   "outputs": [],
   "source": []
  }
 ],
 "metadata": {
  "kernelspec": {
   "display_name": "Python 3",
   "language": "python",
   "name": "python3"
  },
  "language_info": {
   "codemirror_mode": {
    "name": "ipython",
    "version": 3
   },
   "file_extension": ".py",
   "mimetype": "text/x-python",
   "name": "python",
   "nbconvert_exporter": "python",
   "pygments_lexer": "ipython3",
   "version": "3.7.6"
  }
 },
 "nbformat": 4,
 "nbformat_minor": 4
}
