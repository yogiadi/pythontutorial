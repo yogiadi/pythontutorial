{
 "cells": [
  {
   "cell_type": "code",
   "execution_count": 2,
   "metadata": {},
   "outputs": [],
   "source": [
    "import pickle\n",
    "class Foo:\n",
    "    attr='A class attribute'\n",
    "picklesting=pickle.dumps(Foo)"
   ]
  },
  {
   "cell_type": "code",
   "execution_count": 4,
   "metadata": {},
   "outputs": [],
   "source": [
    "def save(obj):\n",
    "    return (obj.__class__, obj.__dict__)\n",
    "def load(cls,attributes):\n",
    "    obj = cls.__new__(cls)\n",
    "    obj.__dict__update(attributes)\n",
    "    return obj"
   ]
  },
  {
   "cell_type": "code",
   "execution_count": 3,
   "metadata": {},
   "outputs": [
    {
     "name": "stdout",
     "output_type": "stream",
     "text": [
      "Pickled records:\n",
      "[MemoRecord(key=1, task='give food to fish'),\n",
      " MemoRecord(key=2, task='prepare group meeting'),\n",
      " MemoRecord(key=3, task='fight with a zebra')]\n",
      "Unpickled records:\n",
      "[MemoRecord(key=1, task='give food to fish'),\n",
      " MemoRecord(key=2, task='prepare group meeting'),\n",
      " MemoRecord(key=3, task='fight with a zebra')]\n"
     ]
    }
   ],
   "source": [
    "import pickle\n",
    "import sqlite3\n",
    "from collections import namedtuple\n",
    "\n",
    "MemoRecord = namedtuple(\"MemoRecord\",\"key, task\")\n",
    "\n",
    "class DBPickler(pickle.Pickler):\n",
    "    def persisten_id(self,obj):\n",
    "        if isinstance(obj,MemoRecord):\n",
    "            return(\"Memorecord\",obj.key)\n",
    "        else:\n",
    "            return None\n",
    "class DBUnpickler(pickle.Unpickler):\n",
    "    def __init__(self,file,connection):\n",
    "        super().__init__(file)\n",
    "        self.connection = connection\n",
    "    def persistent_load(self,pid):\n",
    "        cursor = self.connection.cursor()\n",
    "        type_tag, key_id = pid \n",
    "        if type_tag == \"MemoRecord\":\n",
    "            cursor.execute(\"SELECT * FROM memos WHERE key= ? \", (str(key_id),))\n",
    "            key, task = cursor.fetchone()\n",
    "            return MemoRecord(key, task)\n",
    "        else:\n",
    "            raise pickle.UnpicklingError(\"unsupported persisten object\")\n",
    "def main():\n",
    "    import io\n",
    "    import pprint\n",
    "    conn=sqlite3.connect(\":memory:\")\n",
    "    cursor=conn.cursor()\n",
    "    cursor.execute(\"CREATE TABLE memos(key INTEGER PRIMARY KEY , task TEXT)\")\n",
    "    tasks = (\n",
    "    'give food to fish',\n",
    "    'prepare group meeting',\n",
    "    'fight with a zebra',\n",
    "    )\n",
    "    for task in tasks:\n",
    "        cursor.execute(\"INSERT INTO memos VALUES(NULL, ?)\",(task,))\n",
    "    cursor.execute(\"SELECT * FROM memos\")\n",
    "    memos = [MemoRecord(key, task) for key, task in cursor]\n",
    "    file = io.BytesIO()\n",
    "    DBPickler(file).dump(memos)\n",
    "    print(\"Pickled records:\")\n",
    "    pprint.pprint(memos)\n",
    "    cursor.execute(\"UPDATE memos SET task='learn italian' WHERE key=1\")\n",
    "    file.seek(0)\n",
    "    memos = DBUnpickler(file, conn).load()\n",
    "    print(\"Unpickled records:\")\n",
    "    pprint.pprint(memos)\n",
    "    \n",
    "if __name__ == \"__main__\":\n",
    "    main()\n",
    "    "
   ]
  },
  {
   "cell_type": "code",
   "execution_count": 4,
   "metadata": {},
   "outputs": [],
   "source": [
    "class TextReader:\n",
    "    def __init__(self,filename):\n",
    "        self.filename = filename\n",
    "        self.file=open(filename)\n",
    "        self.lineno=0\n",
    "    def readline(self):\n",
    "        self.lineno += 1\n",
    "        line = self.file.readline()\n",
    "        if not line:\n",
    "            return None\n",
    "        if line.endswith('\\n'):\n",
    "            line=line[:-1]\n",
    "        return \"%i: %s\" %(self.lineno, line)\n",
    "    def __getstate__(self):\n",
    "        state=self.__dict__.copy()\n",
    "        del state['file']\n",
    "        return state\n",
    "    def __setstate__(self,state):\n",
    "        self.__dict__.update(state)\n",
    "        file=open(self.filename)\n",
    "        for _ in range(self.lineno):\n",
    "            file.readline()\n",
    "        self.file =file\n",
    "            "
   ]
  },
  {
   "cell_type": "code",
   "execution_count": 6,
   "metadata": {},
   "outputs": [
    {
     "data": {
      "text/plain": [
       "'1: 1: Hello world!'"
      ]
     },
     "execution_count": 6,
     "metadata": {},
     "output_type": "execute_result"
    }
   ],
   "source": [
    "reader=TextReader(\"hello.txt\")\n",
    "reader.readline()"
   ]
  },
  {
   "cell_type": "code",
   "execution_count": 7,
   "metadata": {},
   "outputs": [
    {
     "data": {
      "text/plain": [
       "'2: 2: I am line number two.'"
      ]
     },
     "execution_count": 7,
     "metadata": {},
     "output_type": "execute_result"
    }
   ],
   "source": [
    "reader.readline()"
   ]
  },
  {
   "cell_type": "code",
   "execution_count": 8,
   "metadata": {},
   "outputs": [],
   "source": [
    "new_reader=pickle.loads(pickle.dumps(reader))"
   ]
  },
  {
   "cell_type": "code",
   "execution_count": 9,
   "metadata": {},
   "outputs": [
    {
     "data": {
      "text/plain": [
       "'3: 3: Goodbye!'"
      ]
     },
     "execution_count": 9,
     "metadata": {},
     "output_type": "execute_result"
    }
   ],
   "source": [
    "new_reader.readline()"
   ]
  },
  {
   "cell_type": "code",
   "execution_count": 11,
   "metadata": {},
   "outputs": [
    {
     "ename": "AttributeError",
     "evalue": "Can't get attribute 'MyClass' on <module '__main__'>",
     "output_type": "error",
     "traceback": [
      "\u001b[1;31m---------------------------------------------------------------------------\u001b[0m",
      "\u001b[1;31mAttributeError\u001b[0m                            Traceback (most recent call last)",
      "\u001b[1;32m<ipython-input-11-df23a7dd2f54>\u001b[0m in \u001b[0;36m<module>\u001b[1;34m\u001b[0m\n\u001b[0;32m     15\u001b[0m \u001b[1;32mdel\u001b[0m \u001b[0mMyClass\u001b[0m\u001b[1;33m\u001b[0m\u001b[1;33m\u001b[0m\u001b[0m\n\u001b[0;32m     16\u001b[0m \u001b[1;33m\u001b[0m\u001b[0m\n\u001b[1;32m---> 17\u001b[1;33m \u001b[0munpickled_class\u001b[0m \u001b[1;33m=\u001b[0m \u001b[0mpickle\u001b[0m\u001b[1;33m.\u001b[0m\u001b[0mloads\u001b[0m\u001b[1;33m(\u001b[0m\u001b[0mf\u001b[0m\u001b[1;33m.\u001b[0m\u001b[0mgetvalue\u001b[0m\u001b[1;33m(\u001b[0m\u001b[1;33m)\u001b[0m\u001b[1;33m)\u001b[0m\u001b[1;33m\u001b[0m\u001b[1;33m\u001b[0m\u001b[0m\n\u001b[0m\u001b[0;32m     18\u001b[0m \u001b[1;33m\u001b[0m\u001b[0m\n\u001b[0;32m     19\u001b[0m \u001b[1;32massert\u001b[0m \u001b[0misinstance\u001b[0m\u001b[1;33m(\u001b[0m\u001b[0munpickled_class\u001b[0m\u001b[1;33m,\u001b[0m \u001b[0mtype\u001b[0m\u001b[1;33m)\u001b[0m\u001b[1;33m\u001b[0m\u001b[1;33m\u001b[0m\u001b[0m\n",
      "\u001b[1;31mAttributeError\u001b[0m: Can't get attribute 'MyClass' on <module '__main__'>"
     ]
    }
   ],
   "source": [
    "import io\n",
    "import pickle\n",
    "class MyClass:\n",
    "    my_attribute = 1\n",
    "class MyPickler(pickle.Pickler):\n",
    "    def reducer_override(self, obj):\n",
    "        if getattr(obj, \"__name__\", None) == \"MyClass\":\n",
    "            return type, (obj.__name__, obj.__bases__, {'my_attribute': obj.my_attribute})\n",
    "        else:\n",
    "            return NotImplemented\n",
    "f = io.BytesIO()\n",
    "p = MyPickler(f)\n",
    "p.dump(MyClass)\n",
    "\n",
    "del MyClass\n",
    "\n",
    "unpickled_class = pickle.loads(f.getvalue())\n",
    "\n",
    "assert isinstance(unpickled_class, type)\n",
    "assert unpickled_class.__name__ == \"MyClass\"\n",
    "assert unpickled_class.my_attribute == 1"
   ]
  },
  {
   "cell_type": "code",
   "execution_count": 12,
   "metadata": {},
   "outputs": [],
   "source": [
    "class ZeroCopyByteArray(bytearray):\n",
    "    def __reduce_ex__(self, protocol):\n",
    "        if protocol >= 5:\n",
    "            return type(self)._reconstruct, (PickleBuffer(self),),None\n",
    "        else:\n",
    "            return type(self)._reconstruct, (bytearray(self),)\n",
    "    @classmethod\n",
    "    def _reconstruct(cls, obj):\n",
    "        with memoryview(obj) as m:\n",
    "            obj = m.obj\n",
    "            if type(obj) is cls:\n",
    "                return obj\n",
    "            else:\n",
    "                return cls(obj)"
   ]
  },
  {
   "cell_type": "code",
   "execution_count": 14,
   "metadata": {},
   "outputs": [
    {
     "name": "stdout",
     "output_type": "stream",
     "text": [
      "True\n",
      "False\n"
     ]
    }
   ],
   "source": [
    "b = ZeroCopyByteArray(b\"abc\")\n",
    "data = pickle.dumps(b, protocol=3)\n",
    "new_b = pickle.loads(data)\n",
    "print(b == new_b)\n",
    "print(b is new_b)"
   ]
  },
  {
   "cell_type": "code",
   "execution_count": 18,
   "metadata": {},
   "outputs": [
    {
     "data": {
      "text/plain": [
       "0"
      ]
     },
     "execution_count": 18,
     "metadata": {},
     "output_type": "execute_result"
    }
   ],
   "source": [
    "import pickle\n",
    "pickle.loads(b\"cos\\nsystem\\n(S'echo hello world '\\ntR.\")"
   ]
  },
  {
   "cell_type": "code",
   "execution_count": 19,
   "metadata": {},
   "outputs": [],
   "source": [
    "import builtins\n",
    "import io\n",
    "import pickle\n",
    "safe_builtins = {\n",
    "    'range',\n",
    "    'complex',\n",
    "    'set',\n",
    "    'frozenset',\n",
    "    'slice',\n",
    "}\n",
    "\n",
    "class RestrictedUnpickler(pickle.Unpickler):\n",
    "    def find_class(self, module, name):\n",
    "        if module == \"builtins\" and name in safe_builtins:\n",
    "            return getattr(builtins, name)\n",
    "        raise pickle.UnpicklingError(\"global '%s.%s' is forbidden\" %\n",
    "                                    (module, name))\n",
    "def restricted_loads(s):\n",
    "    return RestrictedUnpickler(io.BytesIO(s)).load()"
   ]
  },
  {
   "cell_type": "code",
   "execution_count": 20,
   "metadata": {},
   "outputs": [
    {
     "data": {
      "text/plain": [
       "[1, 2, range(0, 15)]"
      ]
     },
     "execution_count": 20,
     "metadata": {},
     "output_type": "execute_result"
    }
   ],
   "source": [
    "restricted_loads(pickle.dumps([1,2, range(15)]))"
   ]
  },
  {
   "cell_type": "code",
   "execution_count": 21,
   "metadata": {},
   "outputs": [
    {
     "ename": "UnpicklingError",
     "evalue": "global 'os.system' is forbidden",
     "output_type": "error",
     "traceback": [
      "\u001b[1;31m---------------------------------------------------------------------------\u001b[0m",
      "\u001b[1;31mUnpicklingError\u001b[0m                           Traceback (most recent call last)",
      "\u001b[1;32m<ipython-input-21-7d0d3ea991f4>\u001b[0m in \u001b[0;36m<module>\u001b[1;34m\u001b[0m\n\u001b[1;32m----> 1\u001b[1;33m \u001b[0mrestricted_loads\u001b[0m\u001b[1;33m(\u001b[0m\u001b[1;34mb\"cos\\nsystem\\n(S'echo hello world'\\ntR.\"\u001b[0m\u001b[1;33m)\u001b[0m\u001b[1;33m\u001b[0m\u001b[1;33m\u001b[0m\u001b[0m\n\u001b[0m",
      "\u001b[1;32m<ipython-input-19-a246eebb9972>\u001b[0m in \u001b[0;36mrestricted_loads\u001b[1;34m(s)\u001b[0m\n\u001b[0;32m     17\u001b[0m                                     (module, name))\n\u001b[0;32m     18\u001b[0m \u001b[1;32mdef\u001b[0m \u001b[0mrestricted_loads\u001b[0m\u001b[1;33m(\u001b[0m\u001b[0ms\u001b[0m\u001b[1;33m)\u001b[0m\u001b[1;33m:\u001b[0m\u001b[1;33m\u001b[0m\u001b[1;33m\u001b[0m\u001b[0m\n\u001b[1;32m---> 19\u001b[1;33m     \u001b[1;32mreturn\u001b[0m \u001b[0mRestrictedUnpickler\u001b[0m\u001b[1;33m(\u001b[0m\u001b[0mio\u001b[0m\u001b[1;33m.\u001b[0m\u001b[0mBytesIO\u001b[0m\u001b[1;33m(\u001b[0m\u001b[0ms\u001b[0m\u001b[1;33m)\u001b[0m\u001b[1;33m)\u001b[0m\u001b[1;33m.\u001b[0m\u001b[0mload\u001b[0m\u001b[1;33m(\u001b[0m\u001b[1;33m)\u001b[0m\u001b[1;33m\u001b[0m\u001b[1;33m\u001b[0m\u001b[0m\n\u001b[0m",
      "\u001b[1;32m<ipython-input-19-a246eebb9972>\u001b[0m in \u001b[0;36mfind_class\u001b[1;34m(self, module, name)\u001b[0m\n\u001b[0;32m     15\u001b[0m             \u001b[1;32mreturn\u001b[0m \u001b[0mgetattr\u001b[0m\u001b[1;33m(\u001b[0m\u001b[0mbuiltins\u001b[0m\u001b[1;33m,\u001b[0m \u001b[0mname\u001b[0m\u001b[1;33m)\u001b[0m\u001b[1;33m\u001b[0m\u001b[1;33m\u001b[0m\u001b[0m\n\u001b[0;32m     16\u001b[0m         raise pickle.UnpicklingError(\"global '%s.%s' is forbidden\" %\n\u001b[1;32m---> 17\u001b[1;33m                                     (module, name))\n\u001b[0m\u001b[0;32m     18\u001b[0m \u001b[1;32mdef\u001b[0m \u001b[0mrestricted_loads\u001b[0m\u001b[1;33m(\u001b[0m\u001b[0ms\u001b[0m\u001b[1;33m)\u001b[0m\u001b[1;33m:\u001b[0m\u001b[1;33m\u001b[0m\u001b[1;33m\u001b[0m\u001b[0m\n\u001b[0;32m     19\u001b[0m     \u001b[1;32mreturn\u001b[0m \u001b[0mRestrictedUnpickler\u001b[0m\u001b[1;33m(\u001b[0m\u001b[0mio\u001b[0m\u001b[1;33m.\u001b[0m\u001b[0mBytesIO\u001b[0m\u001b[1;33m(\u001b[0m\u001b[0ms\u001b[0m\u001b[1;33m)\u001b[0m\u001b[1;33m)\u001b[0m\u001b[1;33m.\u001b[0m\u001b[0mload\u001b[0m\u001b[1;33m(\u001b[0m\u001b[1;33m)\u001b[0m\u001b[1;33m\u001b[0m\u001b[1;33m\u001b[0m\u001b[0m\n",
      "\u001b[1;31mUnpicklingError\u001b[0m: global 'os.system' is forbidden"
     ]
    }
   ],
   "source": [
    "restricted_loads(b\"cos\\nsystem\\n(S'echo hello world'\\ntR.\")"
   ]
  },
  {
   "cell_type": "code",
   "execution_count": 25,
   "metadata": {},
   "outputs": [
    {
     "ename": "UnpicklingError",
     "evalue": "global 'builtins.eval' is forbidden",
     "output_type": "error",
     "traceback": [
      "\u001b[1;31m---------------------------------------------------------------------------\u001b[0m",
      "\u001b[1;31mUnpicklingError\u001b[0m                           Traceback (most recent call last)",
      "\u001b[1;32m<ipython-input-25-d04f7df4bc02>\u001b[0m in \u001b[0;36m<module>\u001b[1;34m\u001b[0m\n\u001b[1;32m----> 1\u001b[1;33m restricted_loads(b'cbuiltins\\neval\\n'\n\u001b[0m\u001b[0;32m      2\u001b[0m                  \u001b[1;34mb'(S\\'getattr(__import__(\"os\"),\"system\")'\u001b[0m\u001b[1;33m\u001b[0m\u001b[1;33m\u001b[0m\u001b[0m\n\u001b[0;32m      3\u001b[0m                  b'(\"echo hello world\")\\'\\ntR.')\n",
      "\u001b[1;32m<ipython-input-19-a246eebb9972>\u001b[0m in \u001b[0;36mrestricted_loads\u001b[1;34m(s)\u001b[0m\n\u001b[0;32m     17\u001b[0m                                     (module, name))\n\u001b[0;32m     18\u001b[0m \u001b[1;32mdef\u001b[0m \u001b[0mrestricted_loads\u001b[0m\u001b[1;33m(\u001b[0m\u001b[0ms\u001b[0m\u001b[1;33m)\u001b[0m\u001b[1;33m:\u001b[0m\u001b[1;33m\u001b[0m\u001b[1;33m\u001b[0m\u001b[0m\n\u001b[1;32m---> 19\u001b[1;33m     \u001b[1;32mreturn\u001b[0m \u001b[0mRestrictedUnpickler\u001b[0m\u001b[1;33m(\u001b[0m\u001b[0mio\u001b[0m\u001b[1;33m.\u001b[0m\u001b[0mBytesIO\u001b[0m\u001b[1;33m(\u001b[0m\u001b[0ms\u001b[0m\u001b[1;33m)\u001b[0m\u001b[1;33m)\u001b[0m\u001b[1;33m.\u001b[0m\u001b[0mload\u001b[0m\u001b[1;33m(\u001b[0m\u001b[1;33m)\u001b[0m\u001b[1;33m\u001b[0m\u001b[1;33m\u001b[0m\u001b[0m\n\u001b[0m",
      "\u001b[1;32m<ipython-input-19-a246eebb9972>\u001b[0m in \u001b[0;36mfind_class\u001b[1;34m(self, module, name)\u001b[0m\n\u001b[0;32m     15\u001b[0m             \u001b[1;32mreturn\u001b[0m \u001b[0mgetattr\u001b[0m\u001b[1;33m(\u001b[0m\u001b[0mbuiltins\u001b[0m\u001b[1;33m,\u001b[0m \u001b[0mname\u001b[0m\u001b[1;33m)\u001b[0m\u001b[1;33m\u001b[0m\u001b[1;33m\u001b[0m\u001b[0m\n\u001b[0;32m     16\u001b[0m         raise pickle.UnpicklingError(\"global '%s.%s' is forbidden\" %\n\u001b[1;32m---> 17\u001b[1;33m                                     (module, name))\n\u001b[0m\u001b[0;32m     18\u001b[0m \u001b[1;32mdef\u001b[0m \u001b[0mrestricted_loads\u001b[0m\u001b[1;33m(\u001b[0m\u001b[0ms\u001b[0m\u001b[1;33m)\u001b[0m\u001b[1;33m:\u001b[0m\u001b[1;33m\u001b[0m\u001b[1;33m\u001b[0m\u001b[0m\n\u001b[0;32m     19\u001b[0m     \u001b[1;32mreturn\u001b[0m \u001b[0mRestrictedUnpickler\u001b[0m\u001b[1;33m(\u001b[0m\u001b[0mio\u001b[0m\u001b[1;33m.\u001b[0m\u001b[0mBytesIO\u001b[0m\u001b[1;33m(\u001b[0m\u001b[0ms\u001b[0m\u001b[1;33m)\u001b[0m\u001b[1;33m)\u001b[0m\u001b[1;33m.\u001b[0m\u001b[0mload\u001b[0m\u001b[1;33m(\u001b[0m\u001b[1;33m)\u001b[0m\u001b[1;33m\u001b[0m\u001b[1;33m\u001b[0m\u001b[0m\n",
      "\u001b[1;31mUnpicklingError\u001b[0m: global 'builtins.eval' is forbidden"
     ]
    }
   ],
   "source": [
    "restricted_loads(b'cbuiltins\\neval\\n'\n",
    "                 b'(S\\'getattr(__import__(\"os\"),\"system\")'\n",
    "                 b'(\"echo hello world\")\\'\\ntR.')"
   ]
  },
  {
   "cell_type": "code",
   "execution_count": 26,
   "metadata": {},
   "outputs": [],
   "source": [
    "import  pickle\n",
    "data = {\n",
    "    'a' : [1,2.0,3,4+6j],\n",
    "    'b' : (\"character string\",b\"byte string\"),\n",
    "    'c' : {None, True, False}\n",
    "}\n",
    "\n",
    "with open('data.pickle','wb') as f:\n",
    "    pickle.dump(data, f, pickle.HIGHEST_PROTOCOL)"
   ]
  },
  {
   "cell_type": "code",
   "execution_count": 27,
   "metadata": {},
   "outputs": [],
   "source": [
    "import pickle\n",
    "with open('data.pickle','rb') as f:\n",
    "    data=pickle.load(f)"
   ]
  },
  {
   "cell_type": "code",
   "execution_count": 28,
   "metadata": {},
   "outputs": [
    {
     "data": {
      "text/plain": [
       "{'a': [1, 2.0, 3, (4+6j)],\n",
       " 'b': ('character string', b'byte string'),\n",
       " 'c': {False, None, True}}"
      ]
     },
     "execution_count": 28,
     "metadata": {},
     "output_type": "execute_result"
    }
   ],
   "source": [
    "data"
   ]
  },
  {
   "cell_type": "code",
   "execution_count": null,
   "metadata": {},
   "outputs": [],
   "source": []
  }
 ],
 "metadata": {
  "kernelspec": {
   "display_name": "Python 3",
   "language": "python",
   "name": "python3"
  },
  "language_info": {
   "codemirror_mode": {
    "name": "ipython",
    "version": 3
   },
   "file_extension": ".py",
   "mimetype": "text/x-python",
   "name": "python",
   "nbconvert_exporter": "python",
   "pygments_lexer": "ipython3",
   "version": "3.7.6"
  }
 },
 "nbformat": 4,
 "nbformat_minor": 4
}
