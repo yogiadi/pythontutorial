{
 "cells": [
  {
   "cell_type": "code",
   "execution_count": 2,
   "metadata": {},
   "outputs": [
    {
     "data": {
      "text/plain": [
       "10"
      ]
     },
     "execution_count": 2,
     "metadata": {},
     "output_type": "execute_result"
    }
   ],
   "source": [
    "code=compile('a + 5','file.py','eval')\n",
    "a=5\n",
    "eval(code)"
   ]
  },
  {
   "cell_type": "code",
   "execution_count": 3,
   "metadata": {},
   "outputs": [
    {
     "data": {
      "text/plain": [
       "10"
      ]
     },
     "execution_count": 3,
     "metadata": {},
     "output_type": "execute_result"
    }
   ],
   "source": [
    "import parser\n",
    "st=parser.expr('a + 5')\n",
    "code= st.compile('file.py')\n",
    "a=5\n",
    "eval(code)"
   ]
  },
  {
   "cell_type": "code",
   "execution_count": 4,
   "metadata": {},
   "outputs": [],
   "source": [
    "import parser\n",
    "def load_suite(source_string):\n",
    "    st = parser.suite(source_string)\n",
    "    return st, st.compile()\n",
    "def load_expression(source_string):\n",
    "    st=parser.expr(source_string)\n",
    "    return st, st.compile()"
   ]
  },
  {
   "cell_type": "code",
   "execution_count": 7,
   "metadata": {},
   "outputs": [],
   "source": [
    "import ast\n",
    "class RewriteName(ast.NodeTransformer):\n",
    "    def visit_Name(self,node):\n",
    "        return Subscript(\n",
    "        value=Name(id='data', ctx=Load()),\n",
    "        slice=Index(value=Constant(value=nodde.id)),\n",
    "        ctx=node.ctx\n",
    "        )"
   ]
  },
  {
   "cell_type": "code",
   "execution_count": 11,
   "metadata": {},
   "outputs": [
    {
     "data": {
      "text/plain": [
       "True"
      ]
     },
     "execution_count": 11,
     "metadata": {},
     "output_type": "execute_result"
    }
   ],
   "source": [
    "import symtable\n",
    "table=symtable.symtable(\"def some_func():    x=5\",\"string\",\"exec\")\n",
    "table.lookup(\"some_func\").is_namespace()"
   ]
  },
  {
   "cell_type": "code",
   "execution_count": 12,
   "metadata": {},
   "outputs": [],
   "source": [
    "from tokenize import tokenize , untokenize , NUMBER , STRING , NAME , OP\n",
    "from io import BytesIO\n",
    "def decistmt(s):\n",
    "    result = []\n",
    "    g=tokenize(BytesIO(s.encode('utf-8')).readline)\n",
    "    for toknum, tokval,_,_,_ in g:\n",
    "        if toknum == NUMBER and '.' in tokval:\n",
    "            result.extend([\n",
    "                (NAME, 'Decimal'),\n",
    "                (OP,'('),\n",
    "                (STRING, repr(tokval)),\n",
    "                (OP,')')\n",
    "            ])\n",
    "        else:\n",
    "            result.append((toknum, tokval))\n",
    "    return untokenize(result).decode('utf-8')"
   ]
  },
  {
   "cell_type": "code",
   "execution_count": 13,
   "metadata": {},
   "outputs": [
    {
     "name": "stdout",
     "output_type": "stream",
     "text": [
      "0,0-0,0:            ENCODING       'utf-8'        \n",
      "1,0-1,3:            NAME           'def'          \n",
      "1,4-1,13:           NAME           'say_hello'    \n",
      "1,13-1,14:          OP             '('            \n",
      "1,14-1,15:          OP             ')'            \n",
      "1,15-1,16:          OP             ':'            \n",
      "1,16-1,17:          NEWLINE        '\\n'           \n",
      "2,0-2,4:            INDENT         '    '         \n",
      "2,4-2,9:            NAME           'print'        \n",
      "2,9-2,10:           OP             '('            \n",
      "2,10-2,25:          STRING         \"'Hello, World!'\"\n",
      "2,25-2,26:          OP             ')'            \n",
      "2,26-2,27:          NEWLINE        '\\n'           \n",
      "3,0-3,0:            DEDENT         ''             \n",
      "3,0-3,9:            NAME           'say_hello'    \n",
      "3,9-3,10:           OP             '('            \n",
      "3,10-3,11:          OP             ')'            \n",
      "3,11-3,12:          NEWLINE        ''             \n",
      "4,0-4,0:            ENDMARKER      ''             \n"
     ]
    }
   ],
   "source": [
    "!python -m tokenize hello.py"
   ]
  },
  {
   "cell_type": "code",
   "execution_count": 14,
   "metadata": {},
   "outputs": [
    {
     "name": "stdout",
     "output_type": "stream",
     "text": [
      "0,0-0,0:            ENCODING       'utf-8'        \n",
      "1,0-1,3:            NAME           'def'          \n",
      "1,4-1,13:           NAME           'say_hello'    \n",
      "1,13-1,14:          LPAR           '('            \n",
      "1,14-1,15:          RPAR           ')'            \n",
      "1,15-1,16:          COLON          ':'            \n",
      "1,16-1,17:          NEWLINE        '\\n'           \n",
      "2,0-2,4:            INDENT         '    '         \n",
      "2,4-2,9:            NAME           'print'        \n",
      "2,9-2,10:           LPAR           '('            \n",
      "2,10-2,25:          STRING         \"'Hello, World!'\"\n",
      "2,25-2,26:          RPAR           ')'            \n",
      "2,26-2,27:          NEWLINE        '\\n'           \n",
      "3,0-3,0:            DEDENT         ''             \n",
      "3,0-3,9:            NAME           'say_hello'    \n",
      "3,9-3,10:           LPAR           '('            \n",
      "3,10-3,11:          RPAR           ')'            \n",
      "3,11-3,12:          NEWLINE        ''             \n",
      "4,0-4,0:            ENDMARKER      ''             \n"
     ]
    }
   ],
   "source": [
    "!python -m tokenize -e hello.py"
   ]
  },
  {
   "cell_type": "code",
   "execution_count": 15,
   "metadata": {},
   "outputs": [
    {
     "name": "stdout",
     "output_type": "stream",
     "text": [
      "TokenInfo(type=1 (NAME), string='def', start=(1, 0), end=(1, 3), line='def say_hello():\\n')\n",
      "TokenInfo(type=1 (NAME), string='say_hello', start=(1, 4), end=(1, 13), line='def say_hello():\\n')\n",
      "TokenInfo(type=53 (OP), string='(', start=(1, 13), end=(1, 14), line='def say_hello():\\n')\n",
      "TokenInfo(type=53 (OP), string=')', start=(1, 14), end=(1, 15), line='def say_hello():\\n')\n",
      "TokenInfo(type=53 (OP), string=':', start=(1, 15), end=(1, 16), line='def say_hello():\\n')\n",
      "TokenInfo(type=4 (NEWLINE), string='\\n', start=(1, 16), end=(1, 17), line='def say_hello():\\n')\n",
      "TokenInfo(type=5 (INDENT), string='    ', start=(2, 0), end=(2, 4), line=\"    print('Hello, World!')\\n\")\n",
      "TokenInfo(type=1 (NAME), string='print', start=(2, 4), end=(2, 9), line=\"    print('Hello, World!')\\n\")\n",
      "TokenInfo(type=53 (OP), string='(', start=(2, 9), end=(2, 10), line=\"    print('Hello, World!')\\n\")\n",
      "TokenInfo(type=3 (STRING), string=\"'Hello, World!'\", start=(2, 10), end=(2, 25), line=\"    print('Hello, World!')\\n\")\n",
      "TokenInfo(type=53 (OP), string=')', start=(2, 25), end=(2, 26), line=\"    print('Hello, World!')\\n\")\n",
      "TokenInfo(type=4 (NEWLINE), string='\\n', start=(2, 26), end=(2, 27), line=\"    print('Hello, World!')\\n\")\n",
      "TokenInfo(type=6 (DEDENT), string='', start=(3, 0), end=(3, 0), line='say_hello()')\n",
      "TokenInfo(type=1 (NAME), string='say_hello', start=(3, 0), end=(3, 9), line='say_hello()')\n",
      "TokenInfo(type=53 (OP), string='(', start=(3, 9), end=(3, 10), line='say_hello()')\n",
      "TokenInfo(type=53 (OP), string=')', start=(3, 10), end=(3, 11), line='say_hello()')\n",
      "TokenInfo(type=4 (NEWLINE), string='', start=(3, 11), end=(3, 12), line='')\n",
      "TokenInfo(type=0 (ENDMARKER), string='', start=(4, 0), end=(4, 0), line='')\n"
     ]
    }
   ],
   "source": [
    "import tokenize \n",
    "with tokenize.open('hello.py') as f:\n",
    "    tokens = tokenize.generate_tokens(f.readline)\n",
    "    for token in tokens:\n",
    "        print(token)"
   ]
  },
  {
   "cell_type": "code",
   "execution_count": 16,
   "metadata": {},
   "outputs": [
    {
     "name": "stdout",
     "output_type": "stream",
     "text": [
      "TokenInfo(type=57 (ENCODING), string='utf-8', start=(0, 0), end=(0, 0), line='')\n",
      "TokenInfo(type=1 (NAME), string='def', start=(1, 0), end=(1, 3), line='def say_hello():\\n')\n",
      "TokenInfo(type=1 (NAME), string='say_hello', start=(1, 4), end=(1, 13), line='def say_hello():\\n')\n",
      "TokenInfo(type=53 (OP), string='(', start=(1, 13), end=(1, 14), line='def say_hello():\\n')\n",
      "TokenInfo(type=53 (OP), string=')', start=(1, 14), end=(1, 15), line='def say_hello():\\n')\n",
      "TokenInfo(type=53 (OP), string=':', start=(1, 15), end=(1, 16), line='def say_hello():\\n')\n",
      "TokenInfo(type=4 (NEWLINE), string='\\n', start=(1, 16), end=(1, 17), line='def say_hello():\\n')\n",
      "TokenInfo(type=5 (INDENT), string='    ', start=(2, 0), end=(2, 4), line=\"    print('Hello, World!')\\n\")\n",
      "TokenInfo(type=1 (NAME), string='print', start=(2, 4), end=(2, 9), line=\"    print('Hello, World!')\\n\")\n",
      "TokenInfo(type=53 (OP), string='(', start=(2, 9), end=(2, 10), line=\"    print('Hello, World!')\\n\")\n",
      "TokenInfo(type=3 (STRING), string=\"'Hello, World!'\", start=(2, 10), end=(2, 25), line=\"    print('Hello, World!')\\n\")\n",
      "TokenInfo(type=53 (OP), string=')', start=(2, 25), end=(2, 26), line=\"    print('Hello, World!')\\n\")\n",
      "TokenInfo(type=4 (NEWLINE), string='\\n', start=(2, 26), end=(2, 27), line=\"    print('Hello, World!')\\n\")\n",
      "TokenInfo(type=6 (DEDENT), string='', start=(3, 0), end=(3, 0), line='say_hello()')\n",
      "TokenInfo(type=1 (NAME), string='say_hello', start=(3, 0), end=(3, 9), line='say_hello()')\n",
      "TokenInfo(type=53 (OP), string='(', start=(3, 9), end=(3, 10), line='say_hello()')\n",
      "TokenInfo(type=53 (OP), string=')', start=(3, 10), end=(3, 11), line='say_hello()')\n",
      "TokenInfo(type=4 (NEWLINE), string='', start=(3, 11), end=(3, 12), line='')\n",
      "TokenInfo(type=0 (ENDMARKER), string='', start=(4, 0), end=(4, 0), line='')\n"
     ]
    }
   ],
   "source": [
    "import tokenize \n",
    "with open('hello.py','rb') as f:\n",
    "    tokens = tokenize.tokenize(f.readline)\n",
    "    for token in tokens:\n",
    "        print(token)"
   ]
  },
  {
   "cell_type": "code",
   "execution_count": 17,
   "metadata": {},
   "outputs": [
    {
     "name": "stdout",
     "output_type": "stream",
     "text": [
      "Listing 'Lib/'...\n",
      "Can't list 'Lib/'\n",
      "Listing 'Lib/'...\n",
      "Can't list 'Lib/'\n",
      "Listing 'Lib'...\n",
      "Can't list 'Lib'\n"
     ]
    },
    {
     "data": {
      "text/plain": [
       "True"
      ]
     },
     "execution_count": 17,
     "metadata": {},
     "output_type": "execute_result"
    }
   ],
   "source": [
    "import compileall\n",
    "compileall.compile_dir('Lib/',force=True)\n",
    "import re\n",
    "compileall.compile_dir('Lib/',rx=re.compile(r'[/\\\\][.]svn'),force=True)\n",
    "import pathlib\n",
    "compileall.compile_dir(pathlib.Path('Lib/'), force=True)"
   ]
  },
  {
   "cell_type": "code",
   "execution_count": 18,
   "metadata": {},
   "outputs": [],
   "source": [
    "def myfunc(alist):\n",
    "    return len(alist)"
   ]
  },
  {
   "cell_type": "code",
   "execution_count": 20,
   "metadata": {},
   "outputs": [
    {
     "name": "stdout",
     "output_type": "stream",
     "text": [
      "  2           0 LOAD_GLOBAL              0 (len)\n",
      "              2 LOAD_FAST                0 (alist)\n",
      "              4 CALL_FUNCTION            1\n",
      "              6 RETURN_VALUE\n"
     ]
    }
   ],
   "source": [
    "import dis\n",
    "dis.dis(myfunc)"
   ]
  },
  {
   "cell_type": "code",
   "execution_count": 21,
   "metadata": {},
   "outputs": [
    {
     "name": "stdout",
     "output_type": "stream",
     "text": [
      "LOAD_GLOBAL\n",
      "LOAD_FAST\n",
      "CALL_FUNCTION\n",
      "RETURN_VALUE\n"
     ]
    }
   ],
   "source": [
    "bytecode = dis.Bytecode(myfunc)\n",
    "for instr in bytecode:\n",
    "    print(instr.opname)"
   ]
  },
  {
   "cell_type": "code",
   "execution_count": 24,
   "metadata": {},
   "outputs": [],
   "source": [
    "import pickle\n",
    "a = (1, 2)\n",
    "file_Name = \"x.pickle\"\n",
    "fileObject = open(file_Name,'wb') \n",
    "pickle.dump(a,fileObject)   \n",
    "fileObject.close()"
   ]
  },
  {
   "cell_type": "code",
   "execution_count": 25,
   "metadata": {},
   "outputs": [
    {
     "name": "stdout",
     "output_type": "stream",
     "text": [
      "(1, 2)\n"
     ]
    }
   ],
   "source": [
    "!python -m pickle x.pickle"
   ]
  },
  {
   "cell_type": "code",
   "execution_count": 26,
   "metadata": {},
   "outputs": [
    {
     "name": "stdout",
     "output_type": "stream",
     "text": [
      "    0: \\x80 PROTO      3\n",
      "    2: K    BININT1    1\n",
      "    4: K    BININT1    2\n",
      "    6: \\x86 TUPLE2\n",
      "    7: q    BINPUT     0\n",
      "    9: .    STOP\n",
      "highest protocol among opcodes = 2\n"
     ]
    }
   ],
   "source": [
    "!python -m pickletools x.pickle"
   ]
  },
  {
   "cell_type": "code",
   "execution_count": null,
   "metadata": {},
   "outputs": [],
   "source": []
  }
 ],
 "metadata": {
  "kernelspec": {
   "display_name": "Python 3",
   "language": "python",
   "name": "python3"
  },
  "language_info": {
   "codemirror_mode": {
    "name": "ipython",
    "version": 3
   },
   "file_extension": ".py",
   "mimetype": "text/x-python",
   "name": "python",
   "nbconvert_exporter": "python",
   "pygments_lexer": "ipython3",
   "version": "3.7.6"
  }
 },
 "nbformat": 4,
 "nbformat_minor": 4
}
