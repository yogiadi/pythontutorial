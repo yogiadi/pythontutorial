{
 "cells": [
  {
   "cell_type": "code",
   "execution_count": 1,
   "metadata": {},
   "outputs": [],
   "source": [
    "from datetime import timedelta\n",
    "delta=timedelta(\n",
    "days=50,\n",
    "seconds=27,\n",
    "microseconds=10,\n",
    "milliseconds=29000,\n",
    "minutes=5,\n",
    "hours=8,\n",
    "weeks=2)"
   ]
  },
  {
   "cell_type": "code",
   "execution_count": 2,
   "metadata": {},
   "outputs": [
    {
     "name": "stdout",
     "output_type": "stream",
     "text": [
      "64 days, 8:05:56.000010\n"
     ]
    }
   ],
   "source": [
    "print(delta)"
   ]
  },
  {
   "cell_type": "code",
   "execution_count": 4,
   "metadata": {},
   "outputs": [
    {
     "name": "stdout",
     "output_type": "stream",
     "text": [
      "-1 86399 999999\n"
     ]
    }
   ],
   "source": [
    "d=timedelta(microseconds=-1)\n",
    "print(d.days,d.seconds,d.microseconds)"
   ]
  },
  {
   "cell_type": "code",
   "execution_count": 5,
   "metadata": {},
   "outputs": [
    {
     "name": "stdout",
     "output_type": "stream",
     "text": [
      "\n"
     ]
    }
   ],
   "source": [
    "timedelta(hours=-5)\n",
    "print(_)"
   ]
  },
  {
   "cell_type": "code",
   "execution_count": 1,
   "metadata": {},
   "outputs": [
    {
     "name": "stdout",
     "output_type": "stream",
     "text": [
      "True\n"
     ]
    }
   ],
   "source": [
    "from datetime import timedelta\n",
    "delta1 = timedelta(seconds=57)\n",
    "delta2 = timedelta(hours=25, seconds=2)\n",
    "print(delta1!=delta2)"
   ]
  },
  {
   "cell_type": "code",
   "execution_count": 2,
   "metadata": {},
   "outputs": [
    {
     "name": "stdout",
     "output_type": "stream",
     "text": [
      "False\n"
     ]
    }
   ],
   "source": [
    "print(delta2==5)"
   ]
  },
  {
   "cell_type": "code",
   "execution_count": 3,
   "metadata": {},
   "outputs": [
    {
     "data": {
      "text/plain": [
       "True"
      ]
     },
     "execution_count": 3,
     "metadata": {},
     "output_type": "execute_result"
    }
   ],
   "source": [
    "delta2 > delta1"
   ]
  },
  {
   "cell_type": "code",
   "execution_count": 4,
   "metadata": {},
   "outputs": [
    {
     "ename": "TypeError",
     "evalue": "'>' not supported between instances of 'datetime.timedelta' and 'int'",
     "output_type": "error",
     "traceback": [
      "\u001b[1;31m---------------------------------------------------------------------------\u001b[0m",
      "\u001b[1;31mTypeError\u001b[0m                                 Traceback (most recent call last)",
      "\u001b[1;32m<ipython-input-4-9dc84b351651>\u001b[0m in \u001b[0;36m<module>\u001b[1;34m\u001b[0m\n\u001b[1;32m----> 1\u001b[1;33m \u001b[0mdelta2\u001b[0m \u001b[1;33m>\u001b[0m \u001b[1;36m5\u001b[0m\u001b[1;33m\u001b[0m\u001b[1;33m\u001b[0m\u001b[0m\n\u001b[0m",
      "\u001b[1;31mTypeError\u001b[0m: '>' not supported between instances of 'datetime.timedelta' and 'int'"
     ]
    }
   ],
   "source": [
    "delta2 > 5"
   ]
  },
  {
   "cell_type": "code",
   "execution_count": 7,
   "metadata": {},
   "outputs": [],
   "source": [
    "from datetime import timedelta\n",
    "year=timedelta(days=365)\n",
    "another_year=timedelta(weeks=40, days=84, hours=23, minutes=50, seconds=600)"
   ]
  },
  {
   "cell_type": "code",
   "execution_count": 9,
   "metadata": {},
   "outputs": [
    {
     "name": "stdout",
     "output_type": "stream",
     "text": [
      "True\n",
      "31536000.0\n"
     ]
    }
   ],
   "source": [
    "print(year==another_year)\n",
    "print(year.total_seconds())"
   ]
  },
  {
   "cell_type": "code",
   "execution_count": 11,
   "metadata": {},
   "outputs": [
    {
     "name": "stdout",
     "output_type": "stream",
     "text": [
      "3650 days, 0:00:00\n",
      "10\n",
      "3285 days, 0:00:00\n",
      "1095 days, 0:00:00 3\n"
     ]
    }
   ],
   "source": [
    "from datetime import timedelta\n",
    "year = timedelta(days=365)\n",
    "ten_years=10*year\n",
    "print(ten_years)\n",
    "print(ten_years.days // 365)\n",
    "nine_years=ten_years - year\n",
    "print(nine_years)\n",
    "three_years=nine_years//3\n",
    "print(three_years, three_years.days // 365)"
   ]
  },
  {
   "cell_type": "code",
   "execution_count": 1,
   "metadata": {},
   "outputs": [
    {
     "data": {
      "text/plain": [
       "datetime.date(2019, 12, 4)"
      ]
     },
     "execution_count": 1,
     "metadata": {},
     "output_type": "execute_result"
    }
   ],
   "source": [
    "from datetime import date\n",
    "date.fromisoformat('2019-12-04')"
   ]
  },
  {
   "cell_type": "code",
   "execution_count": 3,
   "metadata": {},
   "outputs": [
    {
     "name": "stdout",
     "output_type": "stream",
     "text": [
      "2002-12-26\n"
     ]
    }
   ],
   "source": [
    "from datetime import date\n",
    "d = date(2002,12,31)\n",
    "d=d.replace(day=26)\n",
    "print(d)"
   ]
  },
  {
   "cell_type": "code",
   "execution_count": 4,
   "metadata": {},
   "outputs": [
    {
     "data": {
      "text/plain": [
       "(2004, 1, 7)"
      ]
     },
     "execution_count": 4,
     "metadata": {},
     "output_type": "execute_result"
    }
   ],
   "source": [
    "from datetime import date\n",
    "date(2003,12,29).isocalendar()\n",
    "date(2004,1,4).isocalendar()"
   ]
  },
  {
   "cell_type": "code",
   "execution_count": 5,
   "metadata": {},
   "outputs": [
    {
     "data": {
      "text/plain": [
       "'2002-12-04'"
      ]
     },
     "execution_count": 5,
     "metadata": {},
     "output_type": "execute_result"
    }
   ],
   "source": [
    "from datetime import date\n",
    "date(2002,12,4).isoformat()"
   ]
  },
  {
   "cell_type": "code",
   "execution_count": 6,
   "metadata": {},
   "outputs": [
    {
     "data": {
      "text/plain": [
       "'Wed Dec  4 00:00:00 2002'"
      ]
     },
     "execution_count": 6,
     "metadata": {},
     "output_type": "execute_result"
    }
   ],
   "source": [
    "from datetime import date\n",
    "date(2002,12,4).ctime()"
   ]
  },
  {
   "cell_type": "code",
   "execution_count": 20,
   "metadata": {},
   "outputs": [
    {
     "name": "stdout",
     "output_type": "stream",
     "text": [
      "2020-05-23\n",
      "2020\n",
      "True\n",
      "2020-03-24\n",
      "2021-03-24\n",
      "305 days, 0:00:00\n",
      "305\n"
     ]
    }
   ],
   "source": [
    "import time\n",
    "from datetime import date\n",
    "today=date.today()\n",
    "print(today)\n",
    "print(today.year)\n",
    "print(today==date.fromtimestamp(time.time()))\n",
    "my_birthday=date(today.year,3,24)\n",
    "print(my_birthday)\n",
    "if my_birthday < today:\n",
    "    my_birthday=my_birthday.replace(year=today.year+1)\n",
    "print(my_birthday)\n",
    "time_to_birthday=abs(my_birthday-today)\n",
    "print(time_to_birthday)\n",
    "print(time_to_birthday.days)"
   ]
  },
  {
   "cell_type": "code",
   "execution_count": 8,
   "metadata": {},
   "outputs": [
    {
     "name": "stdout",
     "output_type": "stream",
     "text": [
      "2002-03-11\n",
      "2002-03-11\n",
      "11/03/02\n",
      "Monday 11. March 2002\n",
      "Mon Mar 11 00:00:00 2002\n",
      "The day is 11, the month is March. \n",
      "time.struct_time(tm_year=2002, tm_mon=3, tm_mday=11, tm_hour=0, tm_min=0, tm_sec=0, tm_wday=0, tm_yday=70, tm_isdst=-1)\n",
      "time.struct_time(tm_year=2002, tm_mon=3, tm_mday=11, tm_hour=0, tm_min=0, tm_sec=0, tm_wday=0, tm_yday=70, tm_isdst=-1)\n",
      "time.struct_time(tm_year=2002, tm_mon=3, tm_mday=11, tm_hour=0, tm_min=0, tm_sec=0, tm_wday=0, tm_yday=70, tm_isdst=-1)\n",
      "time.struct_time(tm_year=2002, tm_mon=3, tm_mday=11, tm_hour=0, tm_min=0, tm_sec=0, tm_wday=0, tm_yday=70, tm_isdst=-1)\n",
      "time.struct_time(tm_year=2002, tm_mon=3, tm_mday=11, tm_hour=0, tm_min=0, tm_sec=0, tm_wday=0, tm_yday=70, tm_isdst=-1)\n",
      "time.struct_time(tm_year=2002, tm_mon=3, tm_mday=11, tm_hour=0, tm_min=0, tm_sec=0, tm_wday=0, tm_yday=70, tm_isdst=-1)\n",
      "time.struct_time(tm_year=2002, tm_mon=3, tm_mday=11, tm_hour=0, tm_min=0, tm_sec=0, tm_wday=0, tm_yday=70, tm_isdst=-1)\n",
      "time.struct_time(tm_year=2002, tm_mon=3, tm_mday=11, tm_hour=0, tm_min=0, tm_sec=0, tm_wday=0, tm_yday=70, tm_isdst=-1)\n",
      "time.struct_time(tm_year=2002, tm_mon=3, tm_mday=11, tm_hour=0, tm_min=0, tm_sec=0, tm_wday=0, tm_yday=70, tm_isdst=-1)\n",
      "2002\n",
      "11\n",
      "1\n",
      "2005-03-11\n"
     ]
    }
   ],
   "source": [
    "from datetime import date\n",
    "d=date.fromordinal(730920)\n",
    "print(d)\n",
    "print(d.isoformat())\n",
    "print(d.strftime(\"%d/%m/%y\"))\n",
    "print(d.strftime(\"%A %d. %B %Y\"))\n",
    "print(d.ctime())\n",
    "print('The {1} is {0:%d}, the {2} is {0:%B}. '.format(d,\"day\",\"month\"))\n",
    "t = d.timetuple()\n",
    "for i in t:\n",
    "    print(t)\n",
    "ic = d.isocalendar()\n",
    "for i in ic:\n",
    "    print(i)\n",
    "d1=d.replace(year=2005)\n",
    "print(d1)"
   ]
  },
  {
   "cell_type": "code",
   "execution_count": 4,
   "metadata": {},
   "outputs": [
    {
     "name": "stdout",
     "output_type": "stream",
     "text": [
      "2011-11-04 00:00:00\n",
      "2011-11-04 00:05:23\n",
      "2011-11-04 00:05:23.283000\n",
      "2011-11-04 00:05:23+04:00\n"
     ]
    }
   ],
   "source": [
    "from datetime import datetime \n",
    "print(datetime.fromisoformat('2011-11-04'))\n",
    "print(datetime.fromisoformat('2011-11-04T00:05:23'))\n",
    "print(datetime.fromisoformat('2011-11-04 00:05:23.283'))\n",
    "print(datetime.fromisoformat('2011-11-04T00:05:23+04:00'))"
   ]
  },
  {
   "cell_type": "code",
   "execution_count": 5,
   "metadata": {},
   "outputs": [],
   "source": [
    "def astimezone(self, tz):\n",
    "    if self.tzinfo is tz:\n",
    "        return self\n",
    "    utc = (self - self.utcoffset()).replace(tzinfo=tz)\n",
    "    return tz.fromutc(utc)"
   ]
  },
  {
   "cell_type": "code",
   "execution_count": 7,
   "metadata": {},
   "outputs": [
    {
     "name": "stdout",
     "output_type": "stream",
     "text": [
      "<built-in method isoformat of datetime.datetime object at 0x0000020A53F68330>\n",
      "<built-in method isoformat of datetime.datetime object at 0x0000020A53F68660>\n"
     ]
    }
   ],
   "source": [
    "from datetime import datetime, timezone \n",
    "print(datetime(2019,5,18,15,17,8,132263).isoformat)\n",
    "print(datetime(2019,5,18,15,17,tzinfo=timezone.utc).isoformat)"
   ]
  },
  {
   "cell_type": "code",
   "execution_count": 8,
   "metadata": {},
   "outputs": [],
   "source": [
    "from datetime import tzinfo, timedelta, datetime \n",
    "class TZ(tzinfo):\n",
    "    def utcoffset(self, dt):\n",
    "        return timedelta(hours=-6, minutes=-39)"
   ]
  },
  {
   "cell_type": "code",
   "execution_count": 9,
   "metadata": {},
   "outputs": [
    {
     "data": {
      "text/plain": [
       "'2002-12-25T00:00:00-06:39'"
      ]
     },
     "execution_count": 9,
     "metadata": {},
     "output_type": "execute_result"
    }
   ],
   "source": [
    "datetime(2002, 12, 25, tzinfo=TZ()).isoformat()"
   ]
  },
  {
   "cell_type": "code",
   "execution_count": 10,
   "metadata": {},
   "outputs": [
    {
     "data": {
      "text/plain": [
       "'2009-11-27T00:00:00.000100-06:39'"
      ]
     },
     "execution_count": 10,
     "metadata": {},
     "output_type": "execute_result"
    }
   ],
   "source": [
    "datetime(2009, 11, 27, microsecond = 100, tzinfo=TZ()).isoformat()"
   ]
  },
  {
   "cell_type": "code",
   "execution_count": null,
   "metadata": {},
   "outputs": [],
   "source": []
  }
 ],
 "metadata": {
  "kernelspec": {
   "display_name": "Python 3",
   "language": "python",
   "name": "python3"
  },
  "language_info": {
   "codemirror_mode": {
    "name": "ipython",
    "version": 3
   },
   "file_extension": ".py",
   "mimetype": "text/x-python",
   "name": "python",
   "nbconvert_exporter": "python",
   "pygments_lexer": "ipython3",
   "version": "3.7.6"
  }
 },
 "nbformat": 4,
 "nbformat_minor": 4
}
